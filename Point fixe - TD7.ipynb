{
 "cells": [
  {
   "cell_type": "code",
   "execution_count": 4,
   "metadata": {},
   "outputs": [
    {
     "name": "stdout",
     "output_type": "stream",
     "text": [
      "1.0\n",
      "0.5\n",
      "0.8\n",
      "0.6097560975609756\n",
      "0.7289679098005204\n",
      "0.6529997248077185\n",
      "0.701061372973803\n",
      "0.6704717958414473\n",
      "0.6898776322492279\n",
      "0.6775383809122035\n",
      "0.6853735927163312\n",
      "0.6803938569498902\n",
      "0.6835569951920336\n",
      "0.6815470349865663\n",
      "0.6828239376073143\n",
      "0.6820126190729513\n",
      "0.6825280672042958\n",
      "0.682200572671731\n",
      "0.6824086414691092\n",
      "0.6822764449097676\n",
      "0.6823604347611053\n",
      "0.6823070720818657\n",
      "0.6823409756808448\n",
      "0.6823194351870556\n",
      "Avec une précision de 0.01%, a= 0.6823194351870556\n",
      "Nombre d'itérations n= 24\n",
      "On a alors f(a)= -2.0057093053305053e-05\n"
     ]
    }
   ],
   "source": [
    "import numpy as np\n",
    "\n",
    "\n",
    "def f(x):\n",
    "    return x**3+x-1\n",
    "\n",
    "def g(x):\n",
    "    return 1/(1+x**2)\n",
    "\n",
    "x_0=0\n",
    "k=(3*np.sqrt(3))/8\n",
    "n=0\n",
    "x_iter=x_0\n",
    "\n",
    "\n",
    "while( (k**n)/(1-k) >= 1e-4):\n",
    "    x_iter = g(x_iter)\n",
    "    n=n+1\n",
    "    print(x_iter)\n",
    "    if n>100:\n",
    "        break\n",
    "\n",
    "        \n",
    "print('Avec une précision de 0.01%, a=', x_iter)\n",
    "print(\"Nombre d'itérations n=\", n)\n",
    "\n",
    "print(\"On a alors f(a)=\",f(x_iter))\n"
   ]
  },
  {
   "cell_type": "code",
   "execution_count": null,
   "metadata": {},
   "outputs": [],
   "source": []
  }
 ],
 "metadata": {
  "kernelspec": {
   "display_name": "Python 3",
   "language": "python",
   "name": "python3"
  },
  "language_info": {
   "codemirror_mode": {
    "name": "ipython",
    "version": 3
   },
   "file_extension": ".py",
   "mimetype": "text/x-python",
   "name": "python",
   "nbconvert_exporter": "python",
   "pygments_lexer": "ipython3",
   "version": "3.7.6"
  }
 },
 "nbformat": 4,
 "nbformat_minor": 4
}
